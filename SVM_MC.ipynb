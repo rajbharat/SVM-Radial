{
 "cells": [
  {
   "cell_type": "markdown",
   "metadata": {},
   "source": [
    "# SVM Example with multi classfication"
   ]
  },
  {
   "cell_type": "code",
   "execution_count": null,
   "metadata": {},
   "outputs": [],
   "source": [
    "#Required Python PackagesPython\n",
    "\n",
    "# Required Packages\n",
    "from sklearn import datasets\n",
    "from sklearn import svm    \t\t\t# To fit the svm classifier\n",
    "import numpy as np\n",
    "import matplotlib.pyplot as plt            # To visuvalizing the data\n",
    "import pandas as pd"
   ]
  },
  {
   "cell_type": "code",
   "execution_count": null,
   "metadata": {},
   "outputs": [],
   "source": [
    "risk_data = pd.read_excel('/home/iss-user/laxman/python_p/data/overall_risk_dt.xlsx', sheet_name=0)"
   ]
  },
  {
   "cell_type": "code",
   "execution_count": null,
   "metadata": {},
   "outputs": [],
   "source": [
    "risk_data.info()"
   ]
  },
  {
   "cell_type": "code",
   "execution_count": null,
   "metadata": {},
   "outputs": [],
   "source": [
    "risk_data.head(10)"
   ]
  },
  {
   "cell_type": "code",
   "execution_count": null,
   "metadata": {},
   "outputs": [],
   "source": [
    "X = risk_data[['TOT_TRANS_AMT','TOT_SMALL_TRANS_AMT','EFCTV_RISK_LVL','ACTVTY_RISK_LVL','TOT_TRANS_CT']].as_matrix().astype('float')\n",
    "#X = risk_dta.loc[:,'CUST_INTRL_ID',:].as_matrix().astype('float')"
   ]
  },
  {
   "cell_type": "code",
   "execution_count": null,
   "metadata": {},
   "outputs": [],
   "source": [
    "y = risk_data['OVERALL_RISK'].ravel() #to create one dimensional array"
   ]
  },
  {
   "cell_type": "code",
   "execution_count": null,
   "metadata": {},
   "outputs": [],
   "source": [
    "print (X.shape, y.shape)"
   ]
  },
  {
   "cell_type": "code",
   "execution_count": null,
   "metadata": {},
   "outputs": [],
   "source": [
    "#train test split\n",
    "from sklearn.model_selection import train_test_split\n",
    "#X_train, X_test, y_train, y_test = train_test_split(X, y, random_state=0)\n",
    "X_train, X_test, y_train, y_test = train_test_split(X, y, test_size=0.25, random_state=0)\n",
    "print (X_test.shape, y_test.shape)\n",
    "print (X_train.shape, y_train.shape)"
   ]
  },
  {
   "cell_type": "markdown",
   "metadata": {},
   "source": [
    "## Checking the accuracy of the model using DummyClassifier"
   ]
  },
  {
   "cell_type": "code",
   "execution_count": null,
   "metadata": {},
   "outputs": [],
   "source": [
    "from sklearn.dummy import DummyClassifier #it requies sklearn version above 0.19.0"
   ]
  },
  {
   "cell_type": "code",
   "execution_count": null,
   "metadata": {},
   "outputs": [],
   "source": [
    "# create model\n",
    "dummyModel = DummyClassifier(strategy='most_frequent', random_state=0)"
   ]
  },
  {
   "cell_type": "code",
   "execution_count": null,
   "metadata": {},
   "outputs": [],
   "source": [
    "#train dummy model as baseline\n",
    "dummyModel.fit(X_train, y_train)"
   ]
  },
  {
   "cell_type": "code",
   "execution_count": null,
   "metadata": {},
   "outputs": [],
   "source": [
    "#printing the score of dummy Model on test data\n",
    "print ('Score for baseline model : {0:.2f}'.format(dummyModel.score(X_test, y_test)))"
   ]
  },
  {
   "cell_type": "code",
   "execution_count": null,
   "metadata": {},
   "outputs": [],
   "source": [
    "# importing accuracy score, confustion matrix and others\n",
    "from sklearn.metrics import accuracy_score, confusion_matrix, precision_score, recall_score"
   ]
  },
  {
   "cell_type": "code",
   "execution_count": null,
   "metadata": {},
   "outputs": [],
   "source": [
    "#accuracy score printing for test data\n",
    "print (\"Accuracy score for baseline model : {0:.2f}\".format(accuracy_score(y_test, dummyModel.predict(X_test))))"
   ]
  },
  {
   "cell_type": "code",
   "execution_count": null,
   "metadata": {},
   "outputs": [],
   "source": [
    "#Confusion matrix printing for test data\n",
    "print (\"Confusion matrix for baseline model :\\n {0}\".format(confusion_matrix(y_test, dummyModel.predict(X_test))))"
   ]
  },
  {
   "cell_type": "code",
   "execution_count": null,
   "metadata": {},
   "outputs": [],
   "source": [
    "#Precision and recall scores printing for test data\n",
    "print (\"Precision score for baseline model :\\n {0:.2f}\".format(precision_score(y_test, dummyModel.predict(X_test), average='micro')))\n",
    "print (\"Recall score for baseline model :\\n {0:.2f}\".format(recall_score(y_test, dummyModel.predict(X_test), average='micro')))"
   ]
  },
  {
   "cell_type": "markdown",
   "metadata": {},
   "source": [
    "## Baseline model using SVM and kernal as RBF"
   ]
  },
  {
   "cell_type": "code",
   "execution_count": null,
   "metadata": {},
   "outputs": [],
   "source": [
    "# Crate Svm model \n",
    "dataSvmModel = svm.SVC(kernel='rbf') #.fit(X_train, y_train)"
   ]
  },
  {
   "cell_type": "code",
   "execution_count": null,
   "metadata": {},
   "outputs": [],
   "source": [
    "#train the model using SVM\n",
    "dataSvmModel.fit(X_train, y_train)"
   ]
  },
  {
   "cell_type": "code",
   "execution_count": null,
   "metadata": {},
   "outputs": [],
   "source": [
    "#printing the score of SVM Model on test data\n",
    "print ('Score for baseline model : {0:.2f}'.format(dataSvmModel.score(X_test, y_test)))"
   ]
  },
  {
   "cell_type": "code",
   "execution_count": null,
   "metadata": {},
   "outputs": [],
   "source": [
    "#accuracy score printing SVM model for test data\n",
    "print (\"Accuracy score for SVM model : {0:.2f}\".format(accuracy_score(y_test, dataSvmModel.predict(X_test))))"
   ]
  },
  {
   "cell_type": "code",
   "execution_count": null,
   "metadata": {},
   "outputs": [],
   "source": [
    "#Confusion matrix printing for SVM model for  test data\n",
    "print (\"Confusion matrix for SVM model :\\n {0}\".format(confusion_matrix(y_test, dataSvmModel.predict(X_test))))"
   ]
  },
  {
   "cell_type": "code",
   "execution_count": null,
   "metadata": {},
   "outputs": [],
   "source": [
    "#Precision and recall scores printing for SVM model for test data\n",
    "print (\"Precision score for SVM model :\\n {0:.2f}\".format(precision_score(y_test, dataSvmModel.predict(X_test), average='micro')))\n",
    "print (\"Recall score for SVM model :\\n {0:.2f}\".format(recall_score(y_test, dataSvmModel.predict(X_test), average='micro')))"
   ]
  },
  {
   "cell_type": "markdown",
   "metadata": {},
   "source": [
    "## Apply Automated Feature Engineering"
   ]
  },
  {
   "cell_type": "code",
   "execution_count": null,
   "metadata": {},
   "outputs": [],
   "source": [
    "rng = np.random.RandomState(42)\n",
    "noise = rng.normal(size=(len(X),50))"
   ]
  },
  {
   "cell_type": "code",
   "execution_count": null,
   "metadata": {},
   "outputs": [],
   "source": [
    "X_data_noise = np.hstack([X, noise])"
   ]
  },
  {
   "cell_type": "code",
   "execution_count": null,
   "metadata": {},
   "outputs": [],
   "source": [
    "from sklearn.feature_selection import SelectPercentile\n",
    "select = SelectPercentile(percentile=50)\n",
    "select.fit(X_data_noise, y)"
   ]
  },
  {
   "cell_type": "code",
   "execution_count": null,
   "metadata": {},
   "outputs": [],
   "source": [
    "print('Shape of noised feature :{}.'.format(X_data_noise.shape))"
   ]
  },
  {
   "cell_type": "code",
   "execution_count": null,
   "metadata": {},
   "outputs": [],
   "source": [
    "X_train_noise, X_test_noise, y_train_noise, y_test_noise = train_test_split(X_data_noise, y, test_size=0.25, random_state=0)\n",
    "print (X_test_noise.shape, y_test_noise.shape)\n",
    "print (X_train_noise.shape, y_train_noise.shape)"
   ]
  },
  {
   "cell_type": "code",
   "execution_count": null,
   "metadata": {},
   "outputs": [],
   "source": [
    "# Crate Svm model \n",
    "feSvmModel = svm.SVC(kernel='rbf')"
   ]
  },
  {
   "cell_type": "code",
   "execution_count": null,
   "metadata": {},
   "outputs": [],
   "source": [
    "# train the model\n",
    "feSvmModel.fit(X_train_noise, y_train_noise)"
   ]
  },
  {
   "cell_type": "code",
   "execution_count": null,
   "metadata": {},
   "outputs": [],
   "source": [
    "#accuracy score printing for test data\n",
    "print (\"Accuracy score for FE SVM model : {0:.2f}\".format(accuracy_score(y_test_noise, feSvmModel.predict(X_test_noise))))"
   ]
  },
  {
   "cell_type": "code",
   "execution_count": null,
   "metadata": {},
   "outputs": [],
   "source": [
    "#Confusion matrix printing for test data\n",
    "print (\"Confusion matrix for FE SVM model :\\n {0}\".format(confusion_matrix(y_test_noise, feSvmModel.predict(X_test_noise))))"
   ]
  },
  {
   "cell_type": "code",
   "execution_count": null,
   "metadata": {},
   "outputs": [],
   "source": [
    "#Precision and recall scores printing for test data\n",
    "print (\"Precision score for FE SVM model :\\n {0:.2f}\".format(precision_score(y_test_noise, feSvmModel.predict(X_test_noise), average='micro')))\n",
    "print (\"Recall score for FE SVM model :\\n {0:.2f}\".format(recall_score(y_test_noise, feSvmModel.predict(X_test_noise), average='micro')))"
   ]
  },
  {
   "cell_type": "code",
   "execution_count": null,
   "metadata": {},
   "outputs": [],
   "source": [
    "X_train_final_data = select.transform(X_train_noise)\n",
    "X_test_final_data = select.transform(X_test_noise)"
   ]
  },
  {
   "cell_type": "code",
   "execution_count": null,
   "metadata": {},
   "outputs": [],
   "source": [
    "#check feature selection\n",
    "%matplotlib inline\n",
    "mask = select.get_support()\n",
    "print(mask)\n",
    "plt.matshow(mask.reshape(1,-1), cmap='gray_r');"
   ]
  },
  {
   "cell_type": "code",
   "execution_count": null,
   "metadata": {},
   "outputs": [],
   "source": [
    "# train the model\n",
    "feSvmModel.fit(X_train_final_data, y_train_noise)"
   ]
  },
  {
   "cell_type": "code",
   "execution_count": null,
   "metadata": {},
   "outputs": [],
   "source": [
    "#Confusion matrix printing for test data\n",
    "print (\"Confusion matrix for FE SVM model :\\n {0}\".format(confusion_matrix(y_test_noise, feSvmModel.predict(X_test_final_data))))"
   ]
  },
  {
   "cell_type": "code",
   "execution_count": null,
   "metadata": {},
   "outputs": [],
   "source": [
    "#Precision and recall scores printing for test data\n",
    "print (\"Precision score for FE SVM model :\\n {0:.2f}\".format(precision_score(y_test_noise, feSvmModel.predict(X_test_final_data), average='micro')))\n",
    "print (\"Recall score for FE SVM model :\\n {0:.2f}\".format(recall_score(y_test_noise, feSvmModel.predict(X_test_final_data), average='micro')))"
   ]
  },
  {
   "cell_type": "code",
   "execution_count": null,
   "metadata": {},
   "outputs": [],
   "source": []
  }
 ],
 "metadata": {
  "kernelspec": {
   "display_name": "Python 3",
   "language": "python",
   "name": "python3"
  },
  "language_info": {
   "codemirror_mode": {
    "name": "ipython",
    "version": 3
   },
   "file_extension": ".py",
   "mimetype": "text/x-python",
   "name": "python",
   "nbconvert_exporter": "python",
   "pygments_lexer": "ipython3",
   "version": "3.6.3"
  }
 },
 "nbformat": 4,
 "nbformat_minor": 2
}
